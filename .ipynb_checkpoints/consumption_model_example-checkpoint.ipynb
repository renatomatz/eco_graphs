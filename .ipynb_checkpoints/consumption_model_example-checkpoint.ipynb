{
 "cells": [
  {
   "cell_type": "code",
   "execution_count": 1,
   "metadata": {},
   "outputs": [
    {
     "name": "stderr",
     "output_type": "stream",
     "text": [
      "\n",
      "Bad key \"text.kerning_factor\" on line 4 in\n",
      "/home/renatomz/anaconda3/lib/python3.7/site-packages/matplotlib/mpl-data/stylelib/_classic_test_patch.mplstyle.\n",
      "You probably need to get an updated matplotlibrc file from\n",
      "https://github.com/matplotlib/matplotlib/blob/v3.1.3/matplotlibrc.template\n",
      "or from the matplotlib source distribution\n"
     ]
    }
   ],
   "source": [
    "from rai import *"
   ]
  },
  {
   "cell_type": "code",
   "execution_count": 2,
   "metadata": {},
   "outputs": [],
   "source": [
    "def utility(x, U, e1, e2):\n",
    "    return (U/(x**e1))**(1/e2)\n",
    "\n",
    "def budget(x, I, p1, p2):\n",
    "    return (I - x*p1)/p2 "
   ]
  },
  {
   "cell_type": "code",
   "execution_count": 3,
   "metadata": {},
   "outputs": [
    {
     "data": {
      "text/plain": [
       "<rai.GraphMaker at 0x7f2b24839890>"
      ]
     },
     "execution_count": 3,
     "metadata": {},
     "output_type": "execute_result"
    }
   ],
   "source": [
    "consumption_graph = GraphMaker(\n",
    "    name=\"Model of Consumer Consumption\",\n",
    "    xlims=(0, 20),\n",
    "    ylims=(0, 20),\n",
    ")\n",
    "\n",
    "consumption_graph.xlabel = \"price/utility of good x\"\n",
    "consumption_graph.ylabel = \"price/utility of good y\"\n",
    "\n",
    "consumption_graph.define_line(\n",
    "    utility,\n",
    "    name=\"Utility\"\n",
    ")\n",
    "\n",
    "consumption_graph.define_line(\n",
    "    budget,\n",
    "    name=\"Budget\"\n",
    ")"
   ]
  },
  {
   "cell_type": "code",
   "execution_count": 19,
   "metadata": {
    "collapsed": true
   },
   "outputs": [
    {
     "data": {
      "text/plain": [
       "<rai.EcoGraph at 0x7f2af9113c10>"
      ]
     },
     "execution_count": 19,
     "metadata": {},
     "output_type": "execute_result"
    },
    {
     "data": {
      "image/png": "[encoded data removed]",
      "text/plain": [
       "<Figure size 864x864 with 1 Axes>"
      ]
     },
     "metadata": {
      "needs_background": "light"
     },
     "output_type": "display_data"
    }
   ],
   "source": [
    "consumption_model = EcoGraph(\n",
    "    x_interval=(0, 15, 0.2)\n",
    ")\n",
    "\n",
    "consumption_model.define_graph(consumption_graph, \n",
    "                               name=\"Consumption Model\")\n",
    "\n",
    "consumption_model.set_static_vals({\n",
    "    \"U\": 4,\n",
    "    \"I\": 8,\n",
    "    \"p1\": 1,\n",
    "    \"p2\": 1,\n",
    "    \"e1\": 1/2,\n",
    "    \"e2\": 1/2,\n",
    "})\n",
    "\n",
    "consumption_model.define_var_param(\"p1\", \n",
    "                                   (0, 2, 0.1), \n",
    "                                   \"slider\",\n",
    "                                   default=1)\n",
    "\n",
    "consumption_model.define_var_param(\"e1\", \n",
    "                                   (0, 1, 0.025), \n",
    "                                   \"slider\",\n",
    "                                   default=1/2)\n",
    "\n",
    "consumption_model.set_figsize((12, 12))"
   ]
  },
  {
   "cell_type": "code",
   "execution_count": 18,
   "metadata": {
    "scrolled": false
   },
   "outputs": [
    {
     "data": {
      "application/vnd.jupyter.widget-view+json": {
       "model_id": "2220332b8d724be88437e40012cb43c2",
       "version_major": 2,
       "version_minor": 0
      },
      "text/plain": [
       "interactive(children=(FloatSlider(value=1.0, description='p1', max=2.0), FloatSlider(value=0.5, description='e…"
      ]
     },
     "metadata": {},
     "output_type": "display_data"
    }
   ],
   "source": [
    "consumption_model()"
   ]
  },
  {
   "cell_type": "code",
   "execution_count": null,
   "metadata": {},
   "outputs": [],
   "source": []
  }
 ],
 "metadata": {
  "kernelspec": {
   "display_name": "Python 3",
   "language": "python",
   "name": "python3"
  },
  "language_info": {
   "codemirror_mode": {
    "name": "ipython",
    "version": 3
   },
   "file_extension": ".py",
   "mimetype": "text/x-python",
   "name": "python",
   "nbconvert_exporter": "python",
   "pygments_lexer": "ipython3",
   "version": "3.7.7"
  }
 },
 "nbformat": 4,
 "nbformat_minor": 4
}
